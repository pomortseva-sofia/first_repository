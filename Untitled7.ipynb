{
  "nbformat": 4,
  "nbformat_minor": 0,
  "metadata": {
    "colab": {
      "provenance": [],
      "authorship_tag": "ABX9TyPnhcXzOmZyLuyW0JiEtUpU",
      "include_colab_link": true
    },
    "kernelspec": {
      "name": "python3",
      "display_name": "Python 3"
    },
    "language_info": {
      "name": "python"
    }
  },
  "cells": [
    {
      "cell_type": "markdown",
      "metadata": {
        "id": "view-in-github",
        "colab_type": "text"
      },
      "source": [
        "<a href=\"https://colab.research.google.com/github/pomortseva-sofia/first_repository/blob/main/Untitled7.ipynb\" target=\"_parent\"><img src=\"https://colab.research.google.com/assets/colab-badge.svg\" alt=\"Open In Colab\"/></a>"
      ]
    },
    {
      "cell_type": "code",
      "source": [
        "import random\n",
        "\n",
        "def check_input(array):\n",
        "  for subarray in array:\n",
        "    if len(subarray) == 2:\n",
        "      A, B = subarray\n",
        "      if isinstance(A, int) and isinstance(B, int) and A > 0 and B > 0 and A < B:\n",
        "        return A, B\n",
        "  return False\n",
        "\n",
        "\n",
        "def get_ladder(valid_array):\n",
        "  A, B = valid_array\n",
        "  N = random.randint(A, B)\n",
        "\n",
        "  first_ladder = [('*' * i) for i in range(B, N + 1)]\n",
        "  second_ladder = [('*' * j) for j in range(A, N + 1)]\n",
        "  return first_ladder, second_ladder\n",
        "\n",
        "\n",
        "def main(array):\n",
        "  valid_array = check_input(array)\n",
        "\n",
        "  if valid_array:\n",
        "    first_ladder, second_ladder = get_ladder(valid_array)\n",
        "    for row in first_ladder:\n",
        "      print(row)\n",
        "    for row in second_ladder:\n",
        "      print(row)\n",
        "\n",
        "input_array = [[0, 4, 8], ['a', -0], [1, 5]]\n",
        "main(input_array)"
      ],
      "metadata": {
        "colab": {
          "base_uri": "https://localhost:8080/"
        },
        "id": "u26MXFSkKPHr",
        "outputId": "e5dabdc5-1638-41e8-a8ed-7d2683ee943d"
      },
      "execution_count": 41,
      "outputs": [
        {
          "output_type": "stream",
          "name": "stdout",
          "text": [
            "*****\n",
            "*\n",
            "**\n",
            "***\n",
            "****\n",
            "*****\n"
          ]
        }
      ]
    }
  ]
}